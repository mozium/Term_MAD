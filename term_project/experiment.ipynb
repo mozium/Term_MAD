{
 "cells": [
  {
   "cell_type": "code",
   "execution_count": 1,
   "metadata": {},
   "outputs": [],
   "source": [
    "# Board Initialization\n",
    "matrix = [x[:] for x in [[0] * 8] * 8]\n",
    "matrix[3][3], matrix[4][4] = 1, 1\n",
    "matrix[3][4], matrix[4][3] = 2, 2"
   ]
  },
  {
   "cell_type": "code",
   "execution_count": 2,
   "metadata": {},
   "outputs": [],
   "source": [
    "def print_matrix(arr: list):\n",
    "    for i in range(len(arr)):\n",
    "        for j in range(len(arr[i])):\n",
    "            if j == 7:\n",
    "                print(str(arr[i][j]))\n",
    "            else:\n",
    "                print(str(arr[i][j]), end = ' ')"
   ]
  },
  {
   "cell_type": "code",
   "execution_count": 4,
   "metadata": {},
   "outputs": [],
   "source": [
    "def placement(arr:list, char:int, row:int, col:int):\n",
    "    i, j, flip = row, col, []\n",
    "\n",
    "    if char == 1:\n",
    "        tar = 2\n",
    "    else:\n",
    "        tar = 1\n",
    "    \n",
    "    flip += top(arr, tar, i, col)\n",
    "    flip += down(arr, tar, i, col)\n",
    "    flip += left(arr, tar, row, j)\n",
    "    flip += right(arr, tar, row, j)\n",
    "    flip += topLeft(arr, tar, i, j)\n",
    "    flip += topRight(arr, tar, i, j)\n",
    "    flip += downLeft(arr, tar, i, j)\n",
    "    flip += downRight(arr, tar, i, j)\n",
    "    \n",
    "    for n in range(len(flip)):\n",
    "        arr[flip[n][0]][flip[n][1]] = char\n",
    "    \n",
    "    arr[row][col] = char\n",
    "    print_matrix(arr)"
   ]
  },
  {
   "cell_type": "code",
   "execution_count": 5,
   "metadata": {},
   "outputs": [],
   "source": [
    "def top(arr:list, tar:int, i:int, col:int):\n",
    "    pot = []\n",
    "    while (i-1 >= 0):\n",
    "        cur = arr[i-1][col]\n",
    "        if cur == 0:\n",
    "            return []\n",
    "        elif cur == tar:\n",
    "            pot.append((i-1, col))\n",
    "            i -= 1\n",
    "        else:\n",
    "            return pot\n",
    "        \n",
    "def down(arr:list, tar:int, i:int, col:int):\n",
    "    pot = []\n",
    "    while (i+1 <= 7):\n",
    "        cur = arr[i+1][col]\n",
    "        if cur == 0:\n",
    "            return []\n",
    "        elif cur == tar:\n",
    "            pot.append((i+1, col))\n",
    "            i += 1\n",
    "        else:\n",
    "            return pot\n",
    "\n",
    "def left(arr:list, tar:int, row:int, j:int):\n",
    "    pot = []\n",
    "    while (j-1 >= 0):\n",
    "        cur = arr[row][j-1]\n",
    "        if cur == 0:\n",
    "            return []\n",
    "        elif cur == tar:\n",
    "            pot.append((row, j-1))\n",
    "            j -= 1\n",
    "        else:\n",
    "            return pot\n",
    "\n",
    "def right(arr:list, tar:int, row:int, j:int):\n",
    "    pot = []\n",
    "    while (j+1 <= 7):\n",
    "        cur = arr[row][j+1]\n",
    "        if cur == 0:\n",
    "            return []\n",
    "        elif cur == tar:\n",
    "            pot.append((row, j+1))\n",
    "            j += 1\n",
    "        else:\n",
    "            return pot\n",
    "\n",
    "def topLeft(arr:list, tar:int, i:int, j:int):\n",
    "    pot = []\n",
    "    while (i-1 >= 0 and j-1 >= 0):\n",
    "        cur = arr[i-1][j-1]\n",
    "        if cur == 0:\n",
    "            return []\n",
    "        elif cur == tar:\n",
    "            pot.append((i-1, j-1))\n",
    "            i -= 1\n",
    "            j -= 1\n",
    "        else:\n",
    "            return pot\n",
    "\n",
    "def topRight(arr:list, tar:int, i:int, j:int):\n",
    "    pot = []\n",
    "    while (i-1 >= 0 and j+1 <= 7):\n",
    "        cur = arr[i-1][j+1]\n",
    "        if cur == 0:\n",
    "            return []\n",
    "        elif cur == tar:\n",
    "            pot.append((i-1, j+1))\n",
    "            i -= 1\n",
    "            j += 1\n",
    "        else:\n",
    "            return pot\n",
    "\n",
    "def downLeft(arr:list, tar:int, i:int, j:int):\n",
    "    pot = []\n",
    "    while (i+1 <= 7 and j-1 >= 0):\n",
    "        cur = arr[i+1][j-1]\n",
    "        if cur == 0:\n",
    "            return []\n",
    "        elif cur == tar:\n",
    "            pot.append((i+1, j-1))\n",
    "            i += 1\n",
    "            j -= 1\n",
    "        else:\n",
    "            return pot\n",
    "\n",
    "def downRight(arr:list, tar:int, i:int, j:int):\n",
    "    pot = []\n",
    "    while (i+1 <= 7 and j+1 <= 7):\n",
    "        cur = arr[i+1][j+1]\n",
    "        if cur == 0:\n",
    "            return []\n",
    "        elif cur == tar:\n",
    "            pot.append((i+1, j+1))\n",
    "            i += 1\n",
    "            j += 1\n",
    "        else:\n",
    "            return pot"
   ]
  },
  {
   "cell_type": "code",
   "execution_count": 8,
   "metadata": {},
   "outputs": [
    {
     "name": "stdout",
     "output_type": "stream",
     "text": [
      "0 0 0 0 0 0 0 0\n",
      "0 0 0 0 0 0 0 0\n",
      "0 0 0 2 1 0 0 0\n",
      "0 0 0 2 2 0 0 0\n",
      "0 0 0 2 2 2 0 0\n",
      "0 0 0 0 0 0 0 0\n",
      "0 0 0 0 0 0 0 0\n",
      "0 0 0 0 0 0 0 0\n"
     ]
    }
   ],
   "source": [
    "placement(matrix, 2, 2, 3)"
   ]
  },
  {
   "cell_type": "code",
   "execution_count": 7,
   "metadata": {},
   "outputs": [
    {
     "name": "stdout",
     "output_type": "stream",
     "text": [
      "0 0 0 0 0 0 0 0\n",
      "0 0 0 0 0 0 0 0\n",
      "0 0 0 0 1 0 0 0\n",
      "0 0 0 1 1 0 0 0\n",
      "0 0 0 2 2 2 0 0\n",
      "0 0 0 0 0 0 0 0\n",
      "0 0 0 0 0 0 0 0\n",
      "0 0 0 0 0 0 0 0\n"
     ]
    }
   ],
   "source": [
    "placement(matrix, 2, 4, 5)"
   ]
  },
  {
   "cell_type": "code",
   "execution_count": 6,
   "metadata": {},
   "outputs": [
    {
     "name": "stdout",
     "output_type": "stream",
     "text": [
      "0 0 0 0 0 0 0 0\n",
      "0 0 0 0 0 0 0 0\n",
      "0 0 0 0 1 0 0 0\n",
      "0 0 0 1 1 0 0 0\n",
      "0 0 0 2 1 0 0 0\n",
      "0 0 0 0 0 0 0 0\n",
      "0 0 0 0 0 0 0 0\n",
      "0 0 0 0 0 0 0 0\n"
     ]
    }
   ],
   "source": [
    "placement(matrix, 1, 2, 4)"
   ]
  },
  {
   "cell_type": "code",
   "execution_count": 3,
   "metadata": {},
   "outputs": [
    {
     "name": "stdout",
     "output_type": "stream",
     "text": [
      "0 0 0 0 0 0 0 0\n",
      "0 0 0 0 0 0 0 0\n",
      "0 0 0 0 0 0 0 0\n",
      "0 0 0 1 2 0 0 0\n",
      "0 0 0 2 1 0 0 0\n",
      "0 0 0 0 0 0 0 0\n",
      "0 0 0 0 0 0 0 0\n",
      "0 0 0 0 0 0 0 0\n"
     ]
    }
   ],
   "source": [
    "# Testbench\n",
    "print_matrix(matrix)"
   ]
  },
  {
   "cell_type": "code",
   "execution_count": null,
   "metadata": {},
   "outputs": [],
   "source": []
  }
 ],
 "metadata": {
  "kernelspec": {
   "display_name": "Python 3",
   "language": "python",
   "name": "python3"
  },
  "language_info": {
   "codemirror_mode": {
    "name": "ipython",
    "version": 3
   },
   "file_extension": ".py",
   "mimetype": "text/x-python",
   "name": "python",
   "nbconvert_exporter": "python",
   "pygments_lexer": "ipython3",
   "version": "3.8.3"
  }
 },
 "nbformat": 4,
 "nbformat_minor": 4
}
